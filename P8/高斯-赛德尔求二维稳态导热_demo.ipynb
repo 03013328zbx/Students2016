{
 "cells": [
  {
   "cell_type": "markdown",
   "metadata": {
    "collapsed": true
   },
   "source": [
    "## 高斯-赛德尔迭代法求解二维稳态导热问题\n",
    "本算例参考高等教育出版社《传热学》第四版，P173例4-2。\n",
    "\n",
    "有一各向同性材料的方形物体，其导热系数为常量。\n",
    "\n",
    "已知各边界的温度如图\n",
    "\n",
    "```\n",
    "        \n",
    "          500\n",
    "      -------------\n",
    "      |           |\n",
    "      |---1---2---|\n",
    " 100  |   |   |   | 100\n",
    "      |---3---4---| \n",
    "      |   |   |   |\n",
    "      -------------\n",
    "           100\n",
    "```\n",
    "\n",
    "试用高斯-赛德尔迭代求其内部网格节点1、2、3和4的温度。"
   ]
  },
  {
   "cell_type": "code",
   "execution_count": 9,
   "metadata": {
    "collapsed": false
   },
   "outputs": [
    {
     "data": {
      "image/png": "[encoded data removed]",
      "text/plain": [
       "<matplotlib.figure.Figure at 0x29337a42cc0>"
      ]
     },
     "metadata": {},
     "output_type": "display_data"
    },
    {
     "name": "stdout",
     "output_type": "stream",
     "text": [
      "+-------+-------+\n",
      "|   0   |   1   |\n",
      "+-------+-------+\n",
      "| 250.0 | 250.0 |\n",
      "| 150.0 | 150.0 |\n",
      "+-------+-------+\n"
     ]
    }
   ],
   "source": [
    "%matplotlib inline\n",
    "# -*- coding: UTF-8 -*-\n",
    "import math\n",
    "from prettytable import PrettyTable\n",
    "import matplotlib.pyplot as plt\n",
    "import numpy as np\n",
    "                         \n",
    "m=4 # row\n",
    "n=4 # col \n",
    "\n",
    "# wall:\n",
    "\n",
    "#  col 0 left\n",
    "#  row n right\n",
    "nodes_t0 = np.zeros((m,n))\n",
    "#  row 0 top\n",
    "nodes_t0[0,1],nodes_t0[0,2]=500,500\n",
    "#  row m-1 bottom\n",
    "nodes_t0[3,1],nodes_t0[3,2]=100,100\n",
    "# left col 0\n",
    "nodes_t0[1,0],nodes_t0[2,0]=100,100\n",
    "# right n-1 \n",
    "nodes_t0[1,3],nodes_t0[2,3]=100,100\n",
    "\n",
    "nodes_t1 = np.zeros((m,n))\n",
    "#  row 0 top\n",
    "nodes_t1[0,1],nodes_t1[0,2]=500,500\n",
    "#  row m-1 bottom\n",
    "nodes_t1[3,1],nodes_t1[3,2]=100,100\n",
    "# left col 0\n",
    "nodes_t1[1,0],nodes_t1[2,0]=100,100\n",
    "# right n-1 \n",
    "nodes_t1[1,3],nodes_t1[2,3]=100,100\n",
    "\n",
    "# 1  nodes_t0[1,1]\n",
    "# 2 nodes_t0[1,2]\n",
    "# 3 nodes_t0[2,1]\n",
    "# 4 nodes_t0[2,2]\n",
    "\n",
    "nodes_t0[1,1]=300\n",
    "nodes_t0[1,2]=300\n",
    "nodes_t0[2,1]=200\n",
    "nodes_t0[2,2]=200\n",
    "\n",
    "flat_id=[(1,1),(1,2),(2,1),(2,2)]\n",
    "\n",
    "def GaussSeidel(nodes_t0,nodes_t1):\n",
    "    maxt=0\n",
    "    i=0\n",
    "    while(1):\n",
    "       \n",
    "        for node in flat_id:\n",
    "            r=node[0]\n",
    "            c=node[1]\n",
    "            nodes_t1[r,c]=0.25*(nodes_t0[r-1,c]+nodes_t0[r+1,c]+\n",
    "                             nodes_t0[r,c+1]+nodes_t0[r,c-1])\n",
    "            curdifft=abs(nodes_t1[r,c]-nodes_t0[r,c])\n",
    "\n",
    "            if curdifft> maxt:\n",
    "                maxt=curdifft\n",
    "            nodes_t0[r,c]= nodes_t1[r,c]\n",
    "          \n",
    "        if maxt<2e-4: \n",
    "            print('Iteration End')\n",
    "            break\n",
    "        else: \n",
    "           i=i+1\n",
    "           if (i>20):\n",
    "              break\n",
    "            \n",
    "    return nodes_t1\n",
    "    \n",
    "\n",
    "def print_temperaturetable(t):\n",
    "    \n",
    "    table = PrettyTable([\"0\",\"1\"])  \n",
    "    table.align= \"c\" #居中\n",
    "    table.padding_width = 1 #One space between column edges and contents (default)\n",
    "    for i in range(2):\n",
    "        table.add_row([t[i,0],t[i,1]])\n",
    "    print(table)\n",
    "\n",
    "nodes_t1=GaussSeidel(nodes_t0,nodes_t1)\n",
    "temperature=np.zeros((2,2))\n",
    "\n",
    "for i in range(2):\n",
    "    temperature[i,0]= nodes_t1[i+1,1]  \n",
    "    temperature[i,1]= nodes_t1[i+1,2]  \n",
    "\n",
    "plt.imshow(temperature,interpolation='bilinear', cmap=plt.get_cmap(\"coolwarm\"))\n",
    "plt.colorbar()\n",
    "plt.show()\n",
    "\n",
    "print_temperaturetable(temperature)\n"
   ]
  },
  {
   "cell_type": "code",
   "execution_count": null,
   "metadata": {
    "collapsed": true
   },
   "outputs": [],
   "source": []
  }
 ],
 "metadata": {
  "kernelspec": {
   "display_name": "Python 3",
   "language": "python",
   "name": "python3"
  },
  "language_info": {
   "codemirror_mode": {
    "name": "ipython",
    "version": 3
   },
   "file_extension": ".py",
   "mimetype": "text/x-python",
   "name": "python",
   "nbconvert_exporter": "python",
   "pygments_lexer": "ipython3",
   "version": "3.5.1"
  }
 },
 "nbformat": 4,
 "nbformat_minor": 0
}
